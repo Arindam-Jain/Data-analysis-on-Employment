{
 "cells": [
  {
   "cell_type": "code",
   "execution_count": 1,
   "metadata": {},
   "outputs": [],
   "source": [
    "import pandas as pd\n",
    "import numpy as np\n",
    "import matplotlib.pyplot as plt\n",
    "import seaborn as sns"
   ]
  },
  {
   "cell_type": "code",
   "execution_count": 2,
   "metadata": {},
   "outputs": [],
   "source": [
    "data=pd.read_csv(\"Dataset_Wales_year_emp_value.csv\")"
   ]
  },
  {
   "cell_type": "code",
   "execution_count": 3,
   "metadata": {},
   "outputs": [
    {
     "data": {
      "text/html": [
       "<div>\n",
       "<style scoped>\n",
       "    .dataframe tbody tr th:only-of-type {\n",
       "        vertical-align: middle;\n",
       "    }\n",
       "\n",
       "    .dataframe tbody tr th {\n",
       "        vertical-align: top;\n",
       "    }\n",
       "\n",
       "    .dataframe thead th {\n",
       "        text-align: right;\n",
       "    }\n",
       "</style>\n",
       "<table border=\"1\" class=\"dataframe\">\n",
       "  <thead>\n",
       "    <tr style=\"text-align: right;\">\n",
       "      <th></th>\n",
       "      <th>Industry</th>\n",
       "      <th>2009</th>\n",
       "      <th>2010</th>\n",
       "      <th>2011</th>\n",
       "      <th>2012</th>\n",
       "      <th>2013</th>\n",
       "      <th>2014</th>\n",
       "      <th>2015</th>\n",
       "      <th>2016</th>\n",
       "      <th>2017</th>\n",
       "      <th>2018</th>\n",
       "    </tr>\n",
       "  </thead>\n",
       "  <tbody>\n",
       "    <tr>\n",
       "      <th>0</th>\n",
       "      <td>Agriculture</td>\n",
       "      <td>37700</td>\n",
       "      <td>38200</td>\n",
       "      <td>36100</td>\n",
       "      <td>36100</td>\n",
       "      <td>36800</td>\n",
       "      <td>42700</td>\n",
       "      <td>40700</td>\n",
       "      <td>43200</td>\n",
       "      <td>40200</td>\n",
       "      <td>41100</td>\n",
       "    </tr>\n",
       "    <tr>\n",
       "      <th>1</th>\n",
       "      <td>Production</td>\n",
       "      <td>156700</td>\n",
       "      <td>149800</td>\n",
       "      <td>158600</td>\n",
       "      <td>154400</td>\n",
       "      <td>164200</td>\n",
       "      <td>173300</td>\n",
       "      <td>172300</td>\n",
       "      <td>162500</td>\n",
       "      <td>165100</td>\n",
       "      <td>165700</td>\n",
       "    </tr>\n",
       "    <tr>\n",
       "      <th>2</th>\n",
       "      <td>Construction</td>\n",
       "      <td>96600</td>\n",
       "      <td>93200</td>\n",
       "      <td>90000</td>\n",
       "      <td>91300</td>\n",
       "      <td>89300</td>\n",
       "      <td>97000</td>\n",
       "      <td>92600</td>\n",
       "      <td>102700</td>\n",
       "      <td>90800</td>\n",
       "      <td>101800</td>\n",
       "    </tr>\n",
       "    <tr>\n",
       "      <th>3</th>\n",
       "      <td>Retail</td>\n",
       "      <td>345400</td>\n",
       "      <td>344500</td>\n",
       "      <td>343100</td>\n",
       "      <td>347300</td>\n",
       "      <td>345100</td>\n",
       "      <td>337300</td>\n",
       "      <td>357700</td>\n",
       "      <td>360200</td>\n",
       "      <td>333500</td>\n",
       "      <td>347600</td>\n",
       "    </tr>\n",
       "    <tr>\n",
       "      <th>4</th>\n",
       "      <td>ICT</td>\n",
       "      <td>27800</td>\n",
       "      <td>27900</td>\n",
       "      <td>26400</td>\n",
       "      <td>27200</td>\n",
       "      <td>26900</td>\n",
       "      <td>35700</td>\n",
       "      <td>24000</td>\n",
       "      <td>34400</td>\n",
       "      <td>58900</td>\n",
       "      <td>31500</td>\n",
       "    </tr>\n",
       "    <tr>\n",
       "      <th>5</th>\n",
       "      <td>Finance</td>\n",
       "      <td>33800</td>\n",
       "      <td>29800</td>\n",
       "      <td>33200</td>\n",
       "      <td>31100</td>\n",
       "      <td>32400</td>\n",
       "      <td>32400</td>\n",
       "      <td>30800</td>\n",
       "      <td>31000</td>\n",
       "      <td>32100</td>\n",
       "      <td>35500</td>\n",
       "    </tr>\n",
       "    <tr>\n",
       "      <th>6</th>\n",
       "      <td>Real Estate</td>\n",
       "      <td>13500</td>\n",
       "      <td>14600</td>\n",
       "      <td>17600</td>\n",
       "      <td>18800</td>\n",
       "      <td>18000</td>\n",
       "      <td>22200</td>\n",
       "      <td>19100</td>\n",
       "      <td>22700</td>\n",
       "      <td>18200</td>\n",
       "      <td>25200</td>\n",
       "    </tr>\n",
       "    <tr>\n",
       "      <th>7</th>\n",
       "      <td>Professional Service</td>\n",
       "      <td>144800</td>\n",
       "      <td>145800</td>\n",
       "      <td>143600</td>\n",
       "      <td>137300</td>\n",
       "      <td>149900</td>\n",
       "      <td>152900</td>\n",
       "      <td>166200</td>\n",
       "      <td>161200</td>\n",
       "      <td>176400</td>\n",
       "      <td>187100</td>\n",
       "    </tr>\n",
       "    <tr>\n",
       "      <th>8</th>\n",
       "      <td>Public_Administration</td>\n",
       "      <td>415600</td>\n",
       "      <td>418600</td>\n",
       "      <td>425600</td>\n",
       "      <td>421000</td>\n",
       "      <td>427000</td>\n",
       "      <td>427600</td>\n",
       "      <td>423200</td>\n",
       "      <td>418500</td>\n",
       "      <td>424500</td>\n",
       "      <td>434900</td>\n",
       "    </tr>\n",
       "    <tr>\n",
       "      <th>9</th>\n",
       "      <td>Other Service</td>\n",
       "      <td>64200</td>\n",
       "      <td>68000</td>\n",
       "      <td>72400</td>\n",
       "      <td>72800</td>\n",
       "      <td>75500</td>\n",
       "      <td>73300</td>\n",
       "      <td>77200</td>\n",
       "      <td>72400</td>\n",
       "      <td>83200</td>\n",
       "      <td>81800</td>\n",
       "    </tr>\n",
       "  </tbody>\n",
       "</table>\n",
       "</div>"
      ],
      "text/plain": [
       "                Industry    2009    2010    2011    2012    2013    2014  \\\n",
       "0            Agriculture   37700   38200   36100   36100   36800   42700   \n",
       "1            Production   156700  149800  158600  154400  164200  173300   \n",
       "2          Construction    96600   93200   90000   91300   89300   97000   \n",
       "3                 Retail  345400  344500  343100  347300  345100  337300   \n",
       "4                    ICT   27800   27900   26400   27200   26900   35700   \n",
       "5                Finance   33800   29800   33200   31100   32400   32400   \n",
       "6            Real Estate   13500   14600   17600   18800   18000   22200   \n",
       "7   Professional Service  144800  145800  143600  137300  149900  152900   \n",
       "8  Public_Administration  415600  418600  425600  421000  427000  427600   \n",
       "9          Other Service   64200   68000   72400   72800   75500   73300   \n",
       "\n",
       "     2015    2016    2017    2018  \n",
       "0   40700   43200   40200   41100  \n",
       "1  172300  162500  165100  165700  \n",
       "2   92600  102700   90800  101800  \n",
       "3  357700  360200  333500  347600  \n",
       "4   24000   34400   58900   31500  \n",
       "5   30800   31000   32100   35500  \n",
       "6   19100   22700   18200   25200  \n",
       "7  166200  161200  176400  187100  \n",
       "8  423200  418500  424500  434900  \n",
       "9   77200   72400   83200   81800  "
      ]
     },
     "execution_count": 3,
     "metadata": {},
     "output_type": "execute_result"
    }
   ],
   "source": [
    "data"
   ]
  },
  {
   "cell_type": "code",
   "execution_count": null,
   "metadata": {},
   "outputs": [],
   "source": [
    "Industry = [0,1,2,3,4,5,6,7,8,9]\n"
   ]
  },
  {
   "cell_type": "code",
   "execution_count": 4,
   "metadata": {
    "scrolled": false
   },
   "outputs": [
    {
     "name": "stdout",
     "output_type": "stream",
     "text": [
      "<class 'pandas.core.frame.DataFrame'>\n",
      "RangeIndex: 10 entries, 0 to 9\n",
      "Data columns (total 11 columns):\n",
      "Industry    10 non-null object\n",
      "2009        10 non-null int64\n",
      "2010        10 non-null int64\n",
      "2011        10 non-null int64\n",
      "2012        10 non-null int64\n",
      "2013        10 non-null int64\n",
      "2014        10 non-null int64\n",
      "2015        10 non-null int64\n",
      "2016        10 non-null int64\n",
      "2017        10 non-null int64\n",
      "2018        10 non-null int64\n",
      "dtypes: int64(10), object(1)\n",
      "memory usage: 960.0+ bytes\n"
     ]
    }
   ],
   "source": [
    "data.info()"
   ]
  },
  {
   "cell_type": "code",
   "execution_count": 86,
   "metadata": {},
   "outputs": [],
   "source": [
    "x=data['2009']"
   ]
  },
  {
   "cell_type": "code",
   "execution_count": 88,
   "metadata": {},
   "outputs": [
    {
     "data": {
      "text/plain": [
       "0     37700\n",
       "1    156700\n",
       "2     96600\n",
       "3    345400\n",
       "4     27800\n",
       "5     33800\n",
       "6     13500\n",
       "7    144800\n",
       "8    415600\n",
       "9     64200\n",
       "Name: 2009, dtype: int64"
      ]
     },
     "execution_count": 88,
     "metadata": {},
     "output_type": "execute_result"
    }
   ],
   "source": [
    "x"
   ]
  },
  {
   "cell_type": "code",
   "execution_count": 90,
   "metadata": {},
   "outputs": [
    {
     "data": {
      "text/plain": [
       "(10,)"
      ]
     },
     "execution_count": 90,
     "metadata": {},
     "output_type": "execute_result"
    }
   ],
   "source": [
    "x.shape"
   ]
  },
  {
   "cell_type": "code",
   "execution_count": null,
   "metadata": {},
   "outputs": [],
   "source": [
    "plt.plot(time, position)"
   ]
  },
  {
   "cell_type": "code",
   "execution_count": 21,
   "metadata": {},
   "outputs": [
    {
     "data": {
      "text/plain": [
       "'Production '"
      ]
     },
     "execution_count": 21,
     "metadata": {},
     "output_type": "execute_result"
    }
   ],
   "source": [
    "data['Industry'][1]"
   ]
  },
  {
   "cell_type": "markdown",
   "metadata": {},
   "source": [
    "*To check Null values*"
   ]
  },
  {
   "cell_type": "code",
   "execution_count": 5,
   "metadata": {},
   "outputs": [
    {
     "data": {
      "text/html": [
       "<div>\n",
       "<style scoped>\n",
       "    .dataframe tbody tr th:only-of-type {\n",
       "        vertical-align: middle;\n",
       "    }\n",
       "\n",
       "    .dataframe tbody tr th {\n",
       "        vertical-align: top;\n",
       "    }\n",
       "\n",
       "    .dataframe thead th {\n",
       "        text-align: right;\n",
       "    }\n",
       "</style>\n",
       "<table border=\"1\" class=\"dataframe\">\n",
       "  <thead>\n",
       "    <tr style=\"text-align: right;\">\n",
       "      <th></th>\n",
       "      <th>Industry</th>\n",
       "      <th>2009</th>\n",
       "      <th>2010</th>\n",
       "      <th>2011</th>\n",
       "      <th>2012</th>\n",
       "      <th>2013</th>\n",
       "      <th>2014</th>\n",
       "      <th>2015</th>\n",
       "      <th>2016</th>\n",
       "      <th>2017</th>\n",
       "      <th>2018</th>\n",
       "    </tr>\n",
       "  </thead>\n",
       "  <tbody>\n",
       "    <tr>\n",
       "      <th>0</th>\n",
       "      <td>False</td>\n",
       "      <td>False</td>\n",
       "      <td>False</td>\n",
       "      <td>False</td>\n",
       "      <td>False</td>\n",
       "      <td>False</td>\n",
       "      <td>False</td>\n",
       "      <td>False</td>\n",
       "      <td>False</td>\n",
       "      <td>False</td>\n",
       "      <td>False</td>\n",
       "    </tr>\n",
       "    <tr>\n",
       "      <th>1</th>\n",
       "      <td>False</td>\n",
       "      <td>False</td>\n",
       "      <td>False</td>\n",
       "      <td>False</td>\n",
       "      <td>False</td>\n",
       "      <td>False</td>\n",
       "      <td>False</td>\n",
       "      <td>False</td>\n",
       "      <td>False</td>\n",
       "      <td>False</td>\n",
       "      <td>False</td>\n",
       "    </tr>\n",
       "    <tr>\n",
       "      <th>2</th>\n",
       "      <td>False</td>\n",
       "      <td>False</td>\n",
       "      <td>False</td>\n",
       "      <td>False</td>\n",
       "      <td>False</td>\n",
       "      <td>False</td>\n",
       "      <td>False</td>\n",
       "      <td>False</td>\n",
       "      <td>False</td>\n",
       "      <td>False</td>\n",
       "      <td>False</td>\n",
       "    </tr>\n",
       "    <tr>\n",
       "      <th>3</th>\n",
       "      <td>False</td>\n",
       "      <td>False</td>\n",
       "      <td>False</td>\n",
       "      <td>False</td>\n",
       "      <td>False</td>\n",
       "      <td>False</td>\n",
       "      <td>False</td>\n",
       "      <td>False</td>\n",
       "      <td>False</td>\n",
       "      <td>False</td>\n",
       "      <td>False</td>\n",
       "    </tr>\n",
       "    <tr>\n",
       "      <th>4</th>\n",
       "      <td>False</td>\n",
       "      <td>False</td>\n",
       "      <td>False</td>\n",
       "      <td>False</td>\n",
       "      <td>False</td>\n",
       "      <td>False</td>\n",
       "      <td>False</td>\n",
       "      <td>False</td>\n",
       "      <td>False</td>\n",
       "      <td>False</td>\n",
       "      <td>False</td>\n",
       "    </tr>\n",
       "    <tr>\n",
       "      <th>5</th>\n",
       "      <td>False</td>\n",
       "      <td>False</td>\n",
       "      <td>False</td>\n",
       "      <td>False</td>\n",
       "      <td>False</td>\n",
       "      <td>False</td>\n",
       "      <td>False</td>\n",
       "      <td>False</td>\n",
       "      <td>False</td>\n",
       "      <td>False</td>\n",
       "      <td>False</td>\n",
       "    </tr>\n",
       "    <tr>\n",
       "      <th>6</th>\n",
       "      <td>False</td>\n",
       "      <td>False</td>\n",
       "      <td>False</td>\n",
       "      <td>False</td>\n",
       "      <td>False</td>\n",
       "      <td>False</td>\n",
       "      <td>False</td>\n",
       "      <td>False</td>\n",
       "      <td>False</td>\n",
       "      <td>False</td>\n",
       "      <td>False</td>\n",
       "    </tr>\n",
       "    <tr>\n",
       "      <th>7</th>\n",
       "      <td>False</td>\n",
       "      <td>False</td>\n",
       "      <td>False</td>\n",
       "      <td>False</td>\n",
       "      <td>False</td>\n",
       "      <td>False</td>\n",
       "      <td>False</td>\n",
       "      <td>False</td>\n",
       "      <td>False</td>\n",
       "      <td>False</td>\n",
       "      <td>False</td>\n",
       "    </tr>\n",
       "    <tr>\n",
       "      <th>8</th>\n",
       "      <td>False</td>\n",
       "      <td>False</td>\n",
       "      <td>False</td>\n",
       "      <td>False</td>\n",
       "      <td>False</td>\n",
       "      <td>False</td>\n",
       "      <td>False</td>\n",
       "      <td>False</td>\n",
       "      <td>False</td>\n",
       "      <td>False</td>\n",
       "      <td>False</td>\n",
       "    </tr>\n",
       "    <tr>\n",
       "      <th>9</th>\n",
       "      <td>False</td>\n",
       "      <td>False</td>\n",
       "      <td>False</td>\n",
       "      <td>False</td>\n",
       "      <td>False</td>\n",
       "      <td>False</td>\n",
       "      <td>False</td>\n",
       "      <td>False</td>\n",
       "      <td>False</td>\n",
       "      <td>False</td>\n",
       "      <td>False</td>\n",
       "    </tr>\n",
       "  </tbody>\n",
       "</table>\n",
       "</div>"
      ],
      "text/plain": [
       "   Industry   2009   2010   2011   2012   2013   2014   2015   2016   2017  \\\n",
       "0     False  False  False  False  False  False  False  False  False  False   \n",
       "1     False  False  False  False  False  False  False  False  False  False   \n",
       "2     False  False  False  False  False  False  False  False  False  False   \n",
       "3     False  False  False  False  False  False  False  False  False  False   \n",
       "4     False  False  False  False  False  False  False  False  False  False   \n",
       "5     False  False  False  False  False  False  False  False  False  False   \n",
       "6     False  False  False  False  False  False  False  False  False  False   \n",
       "7     False  False  False  False  False  False  False  False  False  False   \n",
       "8     False  False  False  False  False  False  False  False  False  False   \n",
       "9     False  False  False  False  False  False  False  False  False  False   \n",
       "\n",
       "    2018  \n",
       "0  False  \n",
       "1  False  \n",
       "2  False  \n",
       "3  False  \n",
       "4  False  \n",
       "5  False  \n",
       "6  False  \n",
       "7  False  \n",
       "8  False  \n",
       "9  False  "
      ]
     },
     "execution_count": 5,
     "metadata": {},
     "output_type": "execute_result"
    }
   ],
   "source": [
    "data.isnull()"
   ]
  },
  {
   "cell_type": "code",
   "execution_count": 6,
   "metadata": {},
   "outputs": [
    {
     "data": {
      "text/plain": [
       "<matplotlib.axes._subplots.AxesSubplot at 0x12116eb00>"
      ]
     },
     "execution_count": 6,
     "metadata": {},
     "output_type": "execute_result"
    },
    {
     "data": {
      "image/png": "[encoded data removed]",
      "text/plain": [
       "<Figure size 432x288 with 1 Axes>"
      ]
     },
     "metadata": {
      "needs_background": "light"
     },
     "output_type": "display_data"
    }
   ],
   "source": [
    "sns.heatmap(data.isnull(),yticklabels=False,cbar=False,cmap='viridis') \n",
    "# to check null values"
   ]
  },
  {
   "cell_type": "code",
   "execution_count": 29,
   "metadata": {},
   "outputs": [
    {
     "data": {
      "text/plain": [
       "<matplotlib.axes._subplots.AxesSubplot at 0x1267de2e8>"
      ]
     },
     "execution_count": 29,
     "metadata": {},
     "output_type": "execute_result"
    },
    {
     "data": {
      "image/png": "[encoded data removed]",
      "text/plain": [
       "<Figure size 432x288 with 1 Axes>"
      ]
     },
     "metadata": {
      "needs_background": "light"
     },
     "output_type": "display_data"
    }
   ],
   "source": [
    "sns.distplot(data['2009'].dropna(),kde=False,color='darkred',bins=20)"
   ]
  },
  {
   "cell_type": "code",
   "execution_count": 37,
   "metadata": {},
   "outputs": [
    {
     "data": {
      "text/plain": [
       "<matplotlib.axes._subplots.AxesSubplot at 0x1270dd470>"
      ]
     },
     "execution_count": 37,
     "metadata": {},
     "output_type": "execute_result"
    },
    {
     "data": {
      "image/png": "[encoded data removed]",
      "text/plain": [
       "<Figure size 432x288 with 1 Axes>"
      ]
     },
     "metadata": {
      "needs_background": "light"
     },
     "output_type": "display_data"
    }
   ],
   "source": [
    "data['2009'].hist(bins=40,color='darkred')"
   ]
  },
  {
   "cell_type": "code",
   "execution_count": 30,
   "metadata": {},
   "outputs": [
    {
     "data": {
      "text/plain": [
       "<matplotlib.axes._subplots.AxesSubplot at 0x1268e1550>"
      ]
     },
     "execution_count": 30,
     "metadata": {},
     "output_type": "execute_result"
    },
    {
     "data": {
      "image/png": "[encoded data removed]",
      "text/plain": [
       "<Figure size 432x288 with 1 Axes>"
      ]
     },
     "metadata": {
      "needs_background": "light"
     },
     "output_type": "display_data"
    }
   ],
   "source": [
    "sns.countplot(y='2009',data=data)"
   ]
  },
  {
   "cell_type": "code",
   "execution_count": null,
   "metadata": {},
   "outputs": [],
   "source": []
  }
 ],
 "metadata": {
  "kernelspec": {
   "display_name": "Python 3",
   "language": "python",
   "name": "python3"
  },
  "language_info": {
   "codemirror_mode": {
    "name": "ipython",
    "version": 3
   },
   "file_extension": ".py",
   "mimetype": "text/x-python",
   "name": "python",
   "nbconvert_exporter": "python",
   "pygments_lexer": "ipython3",
   "version": "3.7.3"
  }
 },
 "nbformat": 4,
 "nbformat_minor": 2
}
